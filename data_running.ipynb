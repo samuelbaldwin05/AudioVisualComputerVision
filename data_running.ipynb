{
 "cells": [
  {
   "cell_type": "code",
   "execution_count": 3,
   "id": "765fd383",
   "metadata": {},
   "outputs": [
    {
     "ename": "AttributeError",
     "evalue": "module 'numpy' has no attribute 'ndarray'",
     "output_type": "error",
     "traceback": [
      "\u001b[1;31m---------------------------------------------------------------------------\u001b[0m",
      "\u001b[1;31mAttributeError\u001b[0m                            Traceback (most recent call last)",
      "Cell \u001b[1;32mIn[3], line 1\u001b[0m\n\u001b[1;32m----> 1\u001b[0m \u001b[38;5;28;01mimport\u001b[39;00m\u001b[38;5;250m \u001b[39m\u001b[38;5;21;01mpandas\u001b[39;00m\u001b[38;5;250m \u001b[39m\u001b[38;5;28;01mas\u001b[39;00m\u001b[38;5;250m \u001b[39m\u001b[38;5;21;01mpd\u001b[39;00m\n\u001b[0;32m      2\u001b[0m \u001b[38;5;28;01mimport\u001b[39;00m\u001b[38;5;250m \u001b[39m\u001b[38;5;21;01mnumpy\u001b[39;00m\u001b[38;5;250m \u001b[39m\u001b[38;5;28;01mas\u001b[39;00m\u001b[38;5;250m \u001b[39m\u001b[38;5;21;01mnp\u001b[39;00m\n\u001b[0;32m      3\u001b[0m \u001b[38;5;28;01mfrom\u001b[39;00m\u001b[38;5;250m \u001b[39m\u001b[38;5;21;01mmodules\u001b[39;00m\u001b[38;5;21;01m.\u001b[39;00m\u001b[38;5;21;01mdata_analysis\u001b[39;00m\u001b[38;5;250m \u001b[39m\u001b[38;5;28;01mimport\u001b[39;00m \u001b[38;5;241m*\u001b[39m\n",
      "File \u001b[1;32mc:\\Users\\samba\\anaconda3\\envs\\shac\\lib\\site-packages\\pandas\\__init__.py:22\u001b[0m\n\u001b[0;32m     19\u001b[0m \u001b[38;5;28;01mdel\u001b[39;00m _hard_dependencies, _dependency, _missing_dependencies\n\u001b[0;32m     21\u001b[0m \u001b[38;5;66;03m# numpy compat\u001b[39;00m\n\u001b[1;32m---> 22\u001b[0m \u001b[38;5;28;01mfrom\u001b[39;00m\u001b[38;5;250m \u001b[39m\u001b[38;5;21;01mpandas\u001b[39;00m\u001b[38;5;21;01m.\u001b[39;00m\u001b[38;5;21;01mcompat\u001b[39;00m\u001b[38;5;250m \u001b[39m\u001b[38;5;28;01mimport\u001b[39;00m is_numpy_dev \u001b[38;5;28;01mas\u001b[39;00m _is_numpy_dev  \u001b[38;5;66;03m# pyright: ignore # noqa:F401\u001b[39;00m\n\u001b[0;32m     24\u001b[0m \u001b[38;5;28;01mtry\u001b[39;00m:\n\u001b[0;32m     25\u001b[0m     \u001b[38;5;28;01mfrom\u001b[39;00m\u001b[38;5;250m \u001b[39m\u001b[38;5;21;01mpandas\u001b[39;00m\u001b[38;5;21;01m.\u001b[39;00m\u001b[38;5;21;01m_libs\u001b[39;00m\u001b[38;5;250m \u001b[39m\u001b[38;5;28;01mimport\u001b[39;00m hashtable \u001b[38;5;28;01mas\u001b[39;00m _hashtable, lib \u001b[38;5;28;01mas\u001b[39;00m _lib, tslib \u001b[38;5;28;01mas\u001b[39;00m _tslib\n",
      "File \u001b[1;32mc:\\Users\\samba\\anaconda3\\envs\\shac\\lib\\site-packages\\pandas\\compat\\__init__.py:17\u001b[0m\n\u001b[0;32m     14\u001b[0m \u001b[38;5;28;01mimport\u001b[39;00m\u001b[38;5;250m \u001b[39m\u001b[38;5;21;01msys\u001b[39;00m\n\u001b[0;32m     15\u001b[0m \u001b[38;5;28;01mfrom\u001b[39;00m\u001b[38;5;250m \u001b[39m\u001b[38;5;21;01mtyping\u001b[39;00m\u001b[38;5;250m \u001b[39m\u001b[38;5;28;01mimport\u001b[39;00m TYPE_CHECKING\n\u001b[1;32m---> 17\u001b[0m \u001b[38;5;28;01mfrom\u001b[39;00m\u001b[38;5;250m \u001b[39m\u001b[38;5;21;01mpandas\u001b[39;00m\u001b[38;5;21;01m.\u001b[39;00m\u001b[38;5;21;01m_typing\u001b[39;00m\u001b[38;5;250m \u001b[39m\u001b[38;5;28;01mimport\u001b[39;00m F\n\u001b[0;32m     18\u001b[0m \u001b[38;5;28;01mfrom\u001b[39;00m\u001b[38;5;250m \u001b[39m\u001b[38;5;21;01mpandas\u001b[39;00m\u001b[38;5;21;01m.\u001b[39;00m\u001b[38;5;21;01mcompat\u001b[39;00m\u001b[38;5;21;01m.\u001b[39;00m\u001b[38;5;21;01mnumpy\u001b[39;00m\u001b[38;5;250m \u001b[39m\u001b[38;5;28;01mimport\u001b[39;00m (\n\u001b[0;32m     19\u001b[0m     is_numpy_dev,\n\u001b[0;32m     20\u001b[0m     np_version_under1p21,\n\u001b[0;32m     21\u001b[0m )\n\u001b[0;32m     22\u001b[0m \u001b[38;5;28;01mfrom\u001b[39;00m\u001b[38;5;250m \u001b[39m\u001b[38;5;21;01mpandas\u001b[39;00m\u001b[38;5;21;01m.\u001b[39;00m\u001b[38;5;21;01mcompat\u001b[39;00m\u001b[38;5;21;01m.\u001b[39;00m\u001b[38;5;21;01mpyarrow\u001b[39;00m\u001b[38;5;250m \u001b[39m\u001b[38;5;28;01mimport\u001b[39;00m (\n\u001b[0;32m     23\u001b[0m     pa_version_under1p01,\n\u001b[0;32m     24\u001b[0m     pa_version_under2p0,\n\u001b[1;32m   (...)\u001b[0m\n\u001b[0;32m     31\u001b[0m     pa_version_under9p0,\n\u001b[0;32m     32\u001b[0m )\n",
      "File \u001b[1;32mc:\\Users\\samba\\anaconda3\\envs\\shac\\lib\\site-packages\\pandas\\_typing.py:89\u001b[0m\n\u001b[0;32m     85\u001b[0m HashableT \u001b[38;5;241m=\u001b[39m TypeVar(\u001b[38;5;124m\"\u001b[39m\u001b[38;5;124mHashableT\u001b[39m\u001b[38;5;124m\"\u001b[39m, bound\u001b[38;5;241m=\u001b[39mHashable)\n\u001b[0;32m     87\u001b[0m \u001b[38;5;66;03m# array-like\u001b[39;00m\n\u001b[1;32m---> 89\u001b[0m ArrayLike \u001b[38;5;241m=\u001b[39m Union[\u001b[38;5;124m\"\u001b[39m\u001b[38;5;124mExtensionArray\u001b[39m\u001b[38;5;124m\"\u001b[39m, \u001b[43mnp\u001b[49m\u001b[38;5;241;43m.\u001b[39;49m\u001b[43mndarray\u001b[49m]\n\u001b[0;32m     90\u001b[0m AnyArrayLike \u001b[38;5;241m=\u001b[39m Union[ArrayLike, \u001b[38;5;124m\"\u001b[39m\u001b[38;5;124mIndex\u001b[39m\u001b[38;5;124m\"\u001b[39m, \u001b[38;5;124m\"\u001b[39m\u001b[38;5;124mSeries\u001b[39m\u001b[38;5;124m\"\u001b[39m]\n\u001b[0;32m     92\u001b[0m \u001b[38;5;66;03m# scalars\u001b[39;00m\n",
      "\u001b[1;31mAttributeError\u001b[0m: module 'numpy' has no attribute 'ndarray'"
     ]
    }
   ],
   "source": [
    "import pandas as pd\n",
    "import numpy as np\n",
    "from modules.data_analysis import *\n",
    "from modules.draw_frame import add_subtitles_with_scene_detection"
   ]
  },
  {
   "cell_type": "code",
   "execution_count": 47,
   "id": "439c01f2",
   "metadata": {},
   "outputs": [
    {
     "name": "stdout",
     "output_type": "stream",
     "text": [
      "Analyzed data saved to data\\input\\cleaned_group5.csv\n"
     ]
    }
   ],
   "source": [
    "df_values = pd.read_csv(r\"data\\input\\group5.csv\")\n",
    "df_times = pd.read_csv(r\"data\\input\\500_days_of_summer_words.csv\")\n",
    "\n",
    "\n",
    "df_values['onset'] = df_values['onset'].astype(float)\n",
    "df_times['start_time'] = df_times['start_time'].astype(float)\n",
    "\n",
    "merged_df = df_values.merge(df_times, left_on='onset', right_on='start_time')\n",
    "\n",
    "merged_df = merged_df.drop(columns=[\"words\", \"onset\"])\n",
    "\n",
    "save_df_to_csv(merged_df, \"data\\input\\cleaned_group5.csv\")"
   ]
  },
  {
   "cell_type": "code",
   "execution_count": 2,
   "id": "71dd49ac",
   "metadata": {},
   "outputs": [
    {
     "name": "stdout",
     "output_type": "stream",
     "text": [
      "Onset CSV columns: ['word_type', 'error_type', 'song', 'annotations', 'subtitle', 'start_time', 'end_time', 'interval', 'type']\n",
      "Frame CSV columns: ['Frame', 'Scene', 'X', 'Y', 'W', 'H', 'Confidence_RetinaFace', 'Mouth_Openness', 'L_0_x', 'L_0_y', 'L_0_z', 'L_1_x', 'L_1_y', 'L_1_z', 'L_2_x', 'L_2_y', 'L_2_z', 'L_3_x', 'L_3_y', 'L_3_z', 'L_4_x', 'L_4_y', 'L_4_z', 'L_5_x', 'L_5_y', 'L_5_z', 'L_6_x', 'L_6_y', 'L_6_z', 'L_7_x', 'L_7_y', 'L_7_z', 'L_8_x', 'L_8_y', 'L_8_z', 'L_9_x', 'L_9_y', 'L_9_z', 'L_10_x', 'L_10_y', 'L_10_z', 'L_11_x', 'L_11_y', 'L_11_z', 'L_12_x', 'L_12_y', 'L_12_z', 'L_13_x', 'L_13_y', 'L_13_z', 'L_14_x', 'L_14_y', 'L_14_z', 'L_15_x', 'L_15_y', 'L_15_z', 'L_16_x', 'L_16_y', 'L_16_z', 'L_17_x', 'L_17_y', 'L_17_z', 'L_18_x', 'L_18_y', 'L_18_z', 'L_19_x', 'L_19_y', 'L_19_z', 'L_20_x', 'L_20_y', 'L_20_z', 'L_21_x', 'L_21_y', 'L_21_z', 'L_22_x', 'L_22_y', 'L_22_z', 'L_23_x', 'L_23_y', 'L_23_z', 'L_24_x', 'L_24_y', 'L_24_z', 'L_25_x', 'L_25_y', 'L_25_z', 'L_26_x', 'L_26_y', 'L_26_z', 'L_27_x', 'L_27_y', 'L_27_z', 'L_28_x', 'L_28_y', 'L_28_z', 'L_29_x', 'L_29_y', 'L_29_z', 'L_30_x', 'L_30_y', 'L_30_z', 'L_31_x', 'L_31_y', 'L_31_z', 'L_32_x', 'L_32_y', 'L_32_z', 'L_33_x', 'L_33_y', 'L_33_z', 'L_34_x', 'L_34_y', 'L_34_z', 'L_35_x', 'L_35_y', 'L_35_z', 'L_36_x', 'L_36_y', 'L_36_z', 'L_37_x', 'L_37_y', 'L_37_z', 'L_38_x', 'L_38_y', 'L_38_z', 'L_39_x', 'L_39_y', 'L_39_z', 'L_40_x', 'L_40_y', 'L_40_z', 'L_41_x', 'L_41_y', 'L_41_z', 'L_42_x', 'L_42_y', 'L_42_z', 'L_43_x', 'L_43_y', 'L_43_z', 'L_44_x', 'L_44_y', 'L_44_z', 'L_45_x', 'L_45_y', 'L_45_z', 'L_46_x', 'L_46_y', 'L_46_z', 'L_47_x', 'L_47_y', 'L_47_z', 'L_48_x', 'L_48_y', 'L_48_z', 'L_49_x', 'L_49_y', 'L_49_z', 'L_50_x', 'L_50_y', 'L_50_z', 'L_51_x', 'L_51_y', 'L_51_z', 'L_52_x', 'L_52_y', 'L_52_z', 'L_53_x', 'L_53_y', 'L_53_z', 'L_54_x', 'L_54_y', 'L_54_z', 'L_55_x', 'L_55_y', 'L_55_z', 'L_56_x', 'L_56_y', 'L_56_z', 'L_57_x', 'L_57_y', 'L_57_z', 'L_58_x', 'L_58_y', 'L_58_z', 'L_59_x', 'L_59_y', 'L_59_z', 'L_60_x', 'L_60_y', 'L_60_z', 'L_61_x', 'L_61_y', 'L_61_z', 'L_62_x', 'L_62_y', 'L_62_z', 'L_63_x', 'L_63_y', 'L_63_z', 'L_64_x', 'L_64_y', 'L_64_z', 'L_65_x', 'L_65_y', 'L_65_z', 'L_66_x', 'L_66_y', 'L_66_z', 'L_67_x', 'L_67_y', 'L_67_z', 'L_68_x', 'L_68_y', 'L_68_z', 'L_69_x', 'L_69_y', 'L_69_z', 'L_70_x', 'L_70_y', 'L_70_z', 'L_71_x', 'L_71_y', 'L_71_z', 'L_72_x', 'L_72_y', 'L_72_z', 'L_73_x', 'L_73_y', 'L_73_z', 'L_74_x', 'L_74_y', 'L_74_z', 'L_75_x', 'L_75_y', 'L_75_z', 'L_76_x', 'L_76_y', 'L_76_z', 'L_77_x', 'L_77_y', 'L_77_z', 'L_78_x', 'L_78_y', 'L_78_z', 'L_79_x', 'L_79_y', 'L_79_z', 'L_80_x', 'L_80_y', 'L_80_z', 'L_81_x', 'L_81_y', 'L_81_z', 'L_82_x', 'L_82_y', 'L_82_z', 'L_83_x', 'L_83_y', 'L_83_z', 'L_84_x', 'L_84_y', 'L_84_z', 'L_85_x', 'L_85_y', 'L_85_z', 'L_86_x', 'L_86_y', 'L_86_z', 'L_87_x', 'L_87_y', 'L_87_z', 'L_88_x', 'L_88_y', 'L_88_z', 'L_89_x', 'L_89_y', 'L_89_z', 'L_90_x', 'L_90_y', 'L_90_z', 'L_91_x', 'L_91_y', 'L_91_z', 'L_92_x', 'L_92_y', 'L_92_z', 'L_93_x', 'L_93_y', 'L_93_z', 'L_94_x', 'L_94_y', 'L_94_z', 'L_95_x', 'L_95_y', 'L_95_z', 'L_96_x', 'L_96_y', 'L_96_z', 'L_97_x', 'L_97_y', 'L_97_z', 'L_98_x', 'L_98_y', 'L_98_z', 'L_99_x', 'L_99_y', 'L_99_z', 'L_100_x', 'L_100_y', 'L_100_z', 'L_101_x', 'L_101_y', 'L_101_z', 'L_102_x', 'L_102_y', 'L_102_z', 'L_103_x', 'L_103_y', 'L_103_z', 'L_104_x', 'L_104_y', 'L_104_z', 'L_105_x', 'L_105_y', 'L_105_z', 'L_106_x', 'L_106_y', 'L_106_z', 'L_107_x', 'L_107_y', 'L_107_z', 'L_108_x', 'L_108_y', 'L_108_z', 'L_109_x', 'L_109_y', 'L_109_z', 'L_110_x', 'L_110_y', 'L_110_z', 'L_111_x', 'L_111_y', 'L_111_z', 'L_112_x', 'L_112_y', 'L_112_z', 'L_113_x', 'L_113_y', 'L_113_z', 'L_114_x', 'L_114_y', 'L_114_z', 'L_115_x', 'L_115_y', 'L_115_z', 'L_116_x', 'L_116_y', 'L_116_z', 'L_117_x', 'L_117_y', 'L_117_z', 'L_118_x', 'L_118_y', 'L_118_z', 'L_119_x', 'L_119_y', 'L_119_z', 'L_120_x', 'L_120_y', 'L_120_z', 'L_121_x', 'L_121_y', 'L_121_z', 'L_122_x', 'L_122_y', 'L_122_z', 'L_123_x', 'L_123_y', 'L_123_z', 'L_124_x', 'L_124_y', 'L_124_z', 'L_125_x', 'L_125_y', 'L_125_z', 'L_126_x', 'L_126_y', 'L_126_z', 'L_127_x', 'L_127_y', 'L_127_z', 'L_128_x', 'L_128_y', 'L_128_z', 'L_129_x', 'L_129_y', 'L_129_z', 'L_130_x', 'L_130_y', 'L_130_z', 'L_131_x', 'L_131_y', 'L_131_z', 'L_132_x', 'L_132_y', 'L_132_z', 'L_133_x', 'L_133_y', 'L_133_z', 'L_134_x', 'L_134_y', 'L_134_z', 'L_135_x', 'L_135_y', 'L_135_z', 'L_136_x', 'L_136_y', 'L_136_z', 'L_137_x', 'L_137_y', 'L_137_z', 'L_138_x', 'L_138_y', 'L_138_z', 'L_139_x', 'L_139_y', 'L_139_z', 'L_140_x', 'L_140_y', 'L_140_z', 'L_141_x', 'L_141_y', 'L_141_z', 'L_142_x', 'L_142_y', 'L_142_z', 'L_143_x', 'L_143_y', 'L_143_z', 'L_144_x', 'L_144_y', 'L_144_z', 'L_145_x', 'L_145_y', 'L_145_z', 'L_146_x', 'L_146_y', 'L_146_z', 'L_147_x', 'L_147_y', 'L_147_z', 'L_148_x', 'L_148_y', 'L_148_z', 'L_149_x', 'L_149_y', 'L_149_z', 'L_150_x', 'L_150_y', 'L_150_z', 'L_151_x', 'L_151_y', 'L_151_z', 'L_152_x', 'L_152_y', 'L_152_z', 'L_153_x', 'L_153_y', 'L_153_z', 'L_154_x', 'L_154_y', 'L_154_z', 'L_155_x', 'L_155_y', 'L_155_z', 'L_156_x', 'L_156_y', 'L_156_z', 'L_157_x', 'L_157_y', 'L_157_z', 'L_158_x', 'L_158_y', 'L_158_z', 'L_159_x', 'L_159_y', 'L_159_z', 'L_160_x', 'L_160_y', 'L_160_z', 'L_161_x', 'L_161_y', 'L_161_z', 'L_162_x', 'L_162_y', 'L_162_z', 'L_163_x', 'L_163_y', 'L_163_z', 'L_164_x', 'L_164_y', 'L_164_z', 'L_165_x', 'L_165_y', 'L_165_z', 'L_166_x', 'L_166_y', 'L_166_z', 'L_167_x', 'L_167_y', 'L_167_z', 'L_168_x', 'L_168_y', 'L_168_z', 'L_169_x', 'L_169_y', 'L_169_z', 'L_170_x', 'L_170_y', 'L_170_z', 'L_171_x', 'L_171_y', 'L_171_z', 'L_172_x', 'L_172_y', 'L_172_z', 'L_173_x', 'L_173_y', 'L_173_z', 'L_174_x', 'L_174_y', 'L_174_z', 'L_175_x', 'L_175_y', 'L_175_z', 'L_176_x', 'L_176_y', 'L_176_z', 'L_177_x', 'L_177_y', 'L_177_z', 'L_178_x', 'L_178_y', 'L_178_z', 'L_179_x', 'L_179_y', 'L_179_z', 'L_180_x', 'L_180_y', 'L_180_z', 'L_181_x', 'L_181_y', 'L_181_z', 'L_182_x', 'L_182_y', 'L_182_z', 'L_183_x', 'L_183_y', 'L_183_z', 'L_184_x', 'L_184_y', 'L_184_z', 'L_185_x', 'L_185_y', 'L_185_z', 'L_186_x', 'L_186_y', 'L_186_z', 'L_187_x', 'L_187_y', 'L_187_z', 'L_188_x', 'L_188_y', 'L_188_z', 'L_189_x', 'L_189_y', 'L_189_z', 'L_190_x', 'L_190_y', 'L_190_z', 'L_191_x', 'L_191_y', 'L_191_z', 'L_192_x', 'L_192_y', 'L_192_z', 'L_193_x', 'L_193_y', 'L_193_z', 'L_194_x', 'L_194_y', 'L_194_z', 'L_195_x', 'L_195_y', 'L_195_z', 'L_196_x', 'L_196_y', 'L_196_z', 'L_197_x', 'L_197_y', 'L_197_z', 'L_198_x', 'L_198_y', 'L_198_z', 'L_199_x', 'L_199_y', 'L_199_z', 'L_200_x', 'L_200_y', 'L_200_z', 'L_201_x', 'L_201_y', 'L_201_z', 'L_202_x', 'L_202_y', 'L_202_z', 'L_203_x', 'L_203_y', 'L_203_z', 'L_204_x', 'L_204_y', 'L_204_z', 'L_205_x', 'L_205_y', 'L_205_z', 'L_206_x', 'L_206_y', 'L_206_z', 'L_207_x', 'L_207_y', 'L_207_z', 'L_208_x', 'L_208_y', 'L_208_z', 'L_209_x', 'L_209_y', 'L_209_z', 'L_210_x', 'L_210_y', 'L_210_z', 'L_211_x', 'L_211_y', 'L_211_z', 'L_212_x', 'L_212_y', 'L_212_z', 'L_213_x', 'L_213_y', 'L_213_z', 'L_214_x', 'L_214_y', 'L_214_z', 'L_215_x', 'L_215_y', 'L_215_z', 'L_216_x', 'L_216_y', 'L_216_z', 'L_217_x', 'L_217_y', 'L_217_z', 'L_218_x', 'L_218_y', 'L_218_z', 'L_219_x', 'L_219_y', 'L_219_z', 'L_220_x', 'L_220_y', 'L_220_z', 'L_221_x', 'L_221_y', 'L_221_z', 'L_222_x', 'L_222_y', 'L_222_z', 'L_223_x', 'L_223_y', 'L_223_z', 'L_224_x', 'L_224_y', 'L_224_z', 'L_225_x', 'L_225_y', 'L_225_z', 'L_226_x', 'L_226_y', 'L_226_z', 'L_227_x', 'L_227_y', 'L_227_z', 'L_228_x', 'L_228_y', 'L_228_z', 'L_229_x', 'L_229_y', 'L_229_z', 'L_230_x', 'L_230_y', 'L_230_z', 'L_231_x', 'L_231_y', 'L_231_z', 'L_232_x', 'L_232_y', 'L_232_z', 'L_233_x', 'L_233_y', 'L_233_z', 'L_234_x', 'L_234_y', 'L_234_z', 'L_235_x', 'L_235_y', 'L_235_z', 'L_236_x', 'L_236_y', 'L_236_z', 'L_237_x', 'L_237_y', 'L_237_z', 'L_238_x', 'L_238_y', 'L_238_z', 'L_239_x', 'L_239_y', 'L_239_z', 'L_240_x', 'L_240_y', 'L_240_z', 'L_241_x', 'L_241_y', 'L_241_z', 'L_242_x', 'L_242_y', 'L_242_z', 'L_243_x', 'L_243_y', 'L_243_z', 'L_244_x', 'L_244_y', 'L_244_z', 'L_245_x', 'L_245_y', 'L_245_z', 'L_246_x', 'L_246_y', 'L_246_z', 'L_247_x', 'L_247_y', 'L_247_z', 'L_248_x', 'L_248_y', 'L_248_z', 'L_249_x', 'L_249_y', 'L_249_z', 'L_250_x', 'L_250_y', 'L_250_z', 'L_251_x', 'L_251_y', 'L_251_z', 'L_252_x', 'L_252_y', 'L_252_z', 'L_253_x', 'L_253_y', 'L_253_z', 'L_254_x', 'L_254_y', 'L_254_z', 'L_255_x', 'L_255_y', 'L_255_z', 'L_256_x', 'L_256_y', 'L_256_z', 'L_257_x', 'L_257_y', 'L_257_z', 'L_258_x', 'L_258_y', 'L_258_z', 'L_259_x', 'L_259_y', 'L_259_z', 'L_260_x', 'L_260_y', 'L_260_z', 'L_261_x', 'L_261_y', 'L_261_z', 'L_262_x', 'L_262_y', 'L_262_z', 'L_263_x', 'L_263_y', 'L_263_z', 'L_264_x', 'L_264_y', 'L_264_z', 'L_265_x', 'L_265_y', 'L_265_z', 'L_266_x', 'L_266_y', 'L_266_z', 'L_267_x', 'L_267_y', 'L_267_z', 'L_268_x', 'L_268_y', 'L_268_z', 'L_269_x', 'L_269_y', 'L_269_z', 'L_270_x', 'L_270_y', 'L_270_z', 'L_271_x', 'L_271_y', 'L_271_z', 'L_272_x', 'L_272_y', 'L_272_z', 'L_273_x', 'L_273_y', 'L_273_z', 'L_274_x', 'L_274_y', 'L_274_z', 'L_275_x', 'L_275_y', 'L_275_z', 'L_276_x', 'L_276_y', 'L_276_z', 'L_277_x', 'L_277_y', 'L_277_z', 'L_278_x', 'L_278_y', 'L_278_z', 'L_279_x', 'L_279_y', 'L_279_z', 'L_280_x', 'L_280_y', 'L_280_z', 'L_281_x', 'L_281_y', 'L_281_z', 'L_282_x', 'L_282_y', 'L_282_z', 'L_283_x', 'L_283_y', 'L_283_z', 'L_284_x', 'L_284_y', 'L_284_z', 'L_285_x', 'L_285_y', 'L_285_z', 'L_286_x', 'L_286_y', 'L_286_z', 'L_287_x', 'L_287_y', 'L_287_z', 'L_288_x', 'L_288_y', 'L_288_z', 'L_289_x', 'L_289_y', 'L_289_z', 'L_290_x', 'L_290_y', 'L_290_z', 'L_291_x', 'L_291_y', 'L_291_z', 'L_292_x', 'L_292_y', 'L_292_z', 'L_293_x', 'L_293_y', 'L_293_z', 'L_294_x', 'L_294_y', 'L_294_z', 'L_295_x', 'L_295_y', 'L_295_z', 'L_296_x', 'L_296_y', 'L_296_z', 'L_297_x', 'L_297_y', 'L_297_z', 'L_298_x', 'L_298_y', 'L_298_z', 'L_299_x', 'L_299_y', 'L_299_z', 'L_300_x', 'L_300_y', 'L_300_z', 'L_301_x', 'L_301_y', 'L_301_z', 'L_302_x', 'L_302_y', 'L_302_z', 'L_303_x', 'L_303_y', 'L_303_z', 'L_304_x', 'L_304_y', 'L_304_z', 'L_305_x', 'L_305_y', 'L_305_z', 'L_306_x', 'L_306_y', 'L_306_z', 'L_307_x', 'L_307_y', 'L_307_z', 'L_308_x', 'L_308_y', 'L_308_z', 'L_309_x', 'L_309_y', 'L_309_z', 'L_310_x', 'L_310_y', 'L_310_z', 'L_311_x', 'L_311_y', 'L_311_z', 'L_312_x', 'L_312_y', 'L_312_z', 'L_313_x', 'L_313_y', 'L_313_z', 'L_314_x', 'L_314_y', 'L_314_z', 'L_315_x', 'L_315_y', 'L_315_z', 'L_316_x', 'L_316_y', 'L_316_z', 'L_317_x', 'L_317_y', 'L_317_z', 'L_318_x', 'L_318_y', 'L_318_z', 'L_319_x', 'L_319_y', 'L_319_z', 'L_320_x', 'L_320_y', 'L_320_z', 'L_321_x', 'L_321_y', 'L_321_z', 'L_322_x', 'L_322_y', 'L_322_z', 'L_323_x', 'L_323_y', 'L_323_z', 'L_324_x', 'L_324_y', 'L_324_z', 'L_325_x', 'L_325_y', 'L_325_z', 'L_326_x', 'L_326_y', 'L_326_z', 'L_327_x', 'L_327_y', 'L_327_z', 'L_328_x', 'L_328_y', 'L_328_z', 'L_329_x', 'L_329_y', 'L_329_z', 'L_330_x', 'L_330_y', 'L_330_z', 'L_331_x', 'L_331_y', 'L_331_z', 'L_332_x', 'L_332_y', 'L_332_z', 'L_333_x', 'L_333_y', 'L_333_z', 'L_334_x', 'L_334_y', 'L_334_z', 'L_335_x', 'L_335_y', 'L_335_z', 'L_336_x', 'L_336_y', 'L_336_z', 'L_337_x', 'L_337_y', 'L_337_z', 'L_338_x', 'L_338_y', 'L_338_z', 'L_339_x', 'L_339_y', 'L_339_z', 'L_340_x', 'L_340_y', 'L_340_z', 'L_341_x', 'L_341_y', 'L_341_z', 'L_342_x', 'L_342_y', 'L_342_z', 'L_343_x', 'L_343_y', 'L_343_z', 'L_344_x', 'L_344_y', 'L_344_z', 'L_345_x', 'L_345_y', 'L_345_z', 'L_346_x', 'L_346_y', 'L_346_z', 'L_347_x', 'L_347_y', 'L_347_z', 'L_348_x', 'L_348_y', 'L_348_z', 'L_349_x', 'L_349_y', 'L_349_z', 'L_350_x', 'L_350_y', 'L_350_z', 'L_351_x', 'L_351_y', 'L_351_z', 'L_352_x', 'L_352_y', 'L_352_z', 'L_353_x', 'L_353_y', 'L_353_z', 'L_354_x', 'L_354_y', 'L_354_z', 'L_355_x', 'L_355_y', 'L_355_z', 'L_356_x', 'L_356_y', 'L_356_z', 'L_357_x', 'L_357_y', 'L_357_z', 'L_358_x', 'L_358_y', 'L_358_z', 'L_359_x', 'L_359_y', 'L_359_z', 'L_360_x', 'L_360_y', 'L_360_z', 'L_361_x', 'L_361_y', 'L_361_z', 'L_362_x', 'L_362_y', 'L_362_z', 'L_363_x', 'L_363_y', 'L_363_z', 'L_364_x', 'L_364_y', 'L_364_z', 'L_365_x', 'L_365_y', 'L_365_z', 'L_366_x', 'L_366_y', 'L_366_z', 'L_367_x', 'L_367_y', 'L_367_z', 'L_368_x', 'L_368_y', 'L_368_z', 'L_369_x', 'L_369_y', 'L_369_z', 'L_370_x', 'L_370_y', 'L_370_z', 'L_371_x', 'L_371_y', 'L_371_z', 'L_372_x', 'L_372_y', 'L_372_z', 'L_373_x', 'L_373_y', 'L_373_z', 'L_374_x', 'L_374_y', 'L_374_z', 'L_375_x', 'L_375_y', 'L_375_z', 'L_376_x', 'L_376_y', 'L_376_z', 'L_377_x', 'L_377_y', 'L_377_z', 'L_378_x', 'L_378_y', 'L_378_z', 'L_379_x', 'L_379_y', 'L_379_z', 'L_380_x', 'L_380_y', 'L_380_z', 'L_381_x', 'L_381_y', 'L_381_z', 'L_382_x', 'L_382_y', 'L_382_z', 'L_383_x', 'L_383_y', 'L_383_z', 'L_384_x', 'L_384_y', 'L_384_z', 'L_385_x', 'L_385_y', 'L_385_z', 'L_386_x', 'L_386_y', 'L_386_z', 'L_387_x', 'L_387_y', 'L_387_z', 'L_388_x', 'L_388_y', 'L_388_z', 'L_389_x', 'L_389_y', 'L_389_z', 'L_390_x', 'L_390_y', 'L_390_z', 'L_391_x', 'L_391_y', 'L_391_z', 'L_392_x', 'L_392_y', 'L_392_z', 'L_393_x', 'L_393_y', 'L_393_z', 'L_394_x', 'L_394_y', 'L_394_z', 'L_395_x', 'L_395_y', 'L_395_z', 'L_396_x', 'L_396_y', 'L_396_z', 'L_397_x', 'L_397_y', 'L_397_z', 'L_398_x', 'L_398_y', 'L_398_z', 'L_399_x', 'L_399_y', 'L_399_z', 'L_400_x', 'L_400_y', 'L_400_z', 'L_401_x', 'L_401_y', 'L_401_z', 'L_402_x', 'L_402_y', 'L_402_z', 'L_403_x', 'L_403_y', 'L_403_z', 'L_404_x', 'L_404_y', 'L_404_z', 'L_405_x', 'L_405_y', 'L_405_z', 'L_406_x', 'L_406_y', 'L_406_z', 'L_407_x', 'L_407_y', 'L_407_z', 'L_408_x', 'L_408_y', 'L_408_z', 'L_409_x', 'L_409_y', 'L_409_z', 'L_410_x', 'L_410_y', 'L_410_z', 'L_411_x', 'L_411_y', 'L_411_z', 'L_412_x', 'L_412_y', 'L_412_z', 'L_413_x', 'L_413_y', 'L_413_z', 'L_414_x', 'L_414_y', 'L_414_z', 'L_415_x', 'L_415_y', 'L_415_z', 'L_416_x', 'L_416_y', 'L_416_z', 'L_417_x', 'L_417_y', 'L_417_z', 'L_418_x', 'L_418_y', 'L_418_z', 'L_419_x', 'L_419_y', 'L_419_z', 'L_420_x', 'L_420_y', 'L_420_z', 'L_421_x', 'L_421_y', 'L_421_z', 'L_422_x', 'L_422_y', 'L_422_z', 'L_423_x', 'L_423_y', 'L_423_z', 'L_424_x', 'L_424_y', 'L_424_z', 'L_425_x', 'L_425_y', 'L_425_z', 'L_426_x', 'L_426_y', 'L_426_z', 'L_427_x', 'L_427_y', 'L_427_z', 'L_428_x', 'L_428_y', 'L_428_z', 'L_429_x', 'L_429_y', 'L_429_z', 'L_430_x', 'L_430_y', 'L_430_z', 'L_431_x', 'L_431_y', 'L_431_z', 'L_432_x', 'L_432_y', 'L_432_z', 'L_433_x', 'L_433_y', 'L_433_z', 'L_434_x', 'L_434_y', 'L_434_z', 'L_435_x', 'L_435_y', 'L_435_z', 'L_436_x', 'L_436_y', 'L_436_z', 'L_437_x', 'L_437_y', 'L_437_z', 'L_438_x', 'L_438_y', 'L_438_z', 'L_439_x', 'L_439_y', 'L_439_z', 'L_440_x', 'L_440_y', 'L_440_z', 'L_441_x', 'L_441_y', 'L_441_z', 'L_442_x', 'L_442_y', 'L_442_z', 'L_443_x', 'L_443_y', 'L_443_z', 'L_444_x', 'L_444_y', 'L_444_z', 'L_445_x', 'L_445_y', 'L_445_z', 'L_446_x', 'L_446_y', 'L_446_z', 'L_447_x', 'L_447_y', 'L_447_z', 'L_448_x', 'L_448_y', 'L_448_z', 'L_449_x', 'L_449_y', 'L_449_z', 'L_450_x', 'L_450_y', 'L_450_z', 'L_451_x', 'L_451_y', 'L_451_z', 'L_452_x', 'L_452_y', 'L_452_z', 'L_453_x', 'L_453_y', 'L_453_z', 'L_454_x', 'L_454_y', 'L_454_z', 'L_455_x', 'L_455_y', 'L_455_z', 'L_456_x', 'L_456_y', 'L_456_z', 'L_457_x', 'L_457_y', 'L_457_z', 'L_458_x', 'L_458_y', 'L_458_z', 'L_459_x', 'L_459_y', 'L_459_z', 'L_460_x', 'L_460_y', 'L_460_z', 'L_461_x', 'L_461_y', 'L_461_z', 'L_462_x', 'L_462_y', 'L_462_z', 'L_463_x', 'L_463_y', 'L_463_z', 'L_464_x', 'L_464_y', 'L_464_z', 'L_465_x', 'L_465_y', 'L_465_z', 'L_466_x', 'L_466_y', 'L_466_z', 'L_467_x', 'L_467_y', 'L_467_z']\n",
      "Analyzed data saved to data\\output\\output2.csv\n"
     ]
    }
   ],
   "source": [
    "words_csv = r\"data\\input\\cleaned_group5.csv\"\n",
    "frames_csv = r\"data\\output\\all_face_mouth_data3.csv\"\n",
    "output_csv = r\"data\\output\\output2.csv\"\n",
    "\n",
    "save_df_to_csv(merge_onset_with_frames(words_csv, frames_csv, fps=24), output_csv=output_csv)"
   ]
  },
  {
   "cell_type": "code",
   "execution_count": 3,
   "id": "7f954aba",
   "metadata": {},
   "outputs": [
    {
     "name": "stdout",
     "output_type": "stream",
     "text": [
      "Input CSV columns: ['subtitle', 'start_time', 'end_time', 'interval', 'type']\n",
      "Converted 8286 entries from time to frames\n",
      "Results saved to: data/input/500_days_of_summer_frames.csv\n"
     ]
    },
    {
     "data": {
      "text/html": [
       "<div>\n",
       "<style scoped>\n",
       "    .dataframe tbody tr th:only-of-type {\n",
       "        vertical-align: middle;\n",
       "    }\n",
       "\n",
       "    .dataframe tbody tr th {\n",
       "        vertical-align: top;\n",
       "    }\n",
       "\n",
       "    .dataframe thead th {\n",
       "        text-align: right;\n",
       "    }\n",
       "</style>\n",
       "<table border=\"1\" class=\"dataframe\">\n",
       "  <thead>\n",
       "    <tr style=\"text-align: right;\">\n",
       "      <th></th>\n",
       "      <th>subtitle</th>\n",
       "      <th>start_time</th>\n",
       "      <th>end_time</th>\n",
       "      <th>interval</th>\n",
       "      <th>type</th>\n",
       "      <th>start_frame</th>\n",
       "      <th>end_frame</th>\n",
       "    </tr>\n",
       "  </thead>\n",
       "  <tbody>\n",
       "    <tr>\n",
       "      <th>0</th>\n",
       "      <td>this</td>\n",
       "      <td>61.977000</td>\n",
       "      <td>62.417000</td>\n",
       "      <td>0.440000</td>\n",
       "      <td>matched</td>\n",
       "      <td>1487</td>\n",
       "      <td>1498</td>\n",
       "    </tr>\n",
       "    <tr>\n",
       "      <th>1</th>\n",
       "      <td>is</td>\n",
       "      <td>62.417000</td>\n",
       "      <td>62.607000</td>\n",
       "      <td>0.190000</td>\n",
       "      <td>matched</td>\n",
       "      <td>1498</td>\n",
       "      <td>1502</td>\n",
       "    </tr>\n",
       "    <tr>\n",
       "      <th>2</th>\n",
       "      <td>a</td>\n",
       "      <td>62.607000</td>\n",
       "      <td>62.677000</td>\n",
       "      <td>0.070000</td>\n",
       "      <td>matched</td>\n",
       "      <td>1502</td>\n",
       "      <td>1504</td>\n",
       "    </tr>\n",
       "    <tr>\n",
       "      <th>3</th>\n",
       "      <td>story</td>\n",
       "      <td>62.677000</td>\n",
       "      <td>63.247000</td>\n",
       "      <td>0.570000</td>\n",
       "      <td>matched</td>\n",
       "      <td>1504</td>\n",
       "      <td>1517</td>\n",
       "    </tr>\n",
       "    <tr>\n",
       "      <th>4</th>\n",
       "      <td>of</td>\n",
       "      <td>63.527000</td>\n",
       "      <td>63.707000</td>\n",
       "      <td>0.180000</td>\n",
       "      <td>matched</td>\n",
       "      <td>1524</td>\n",
       "      <td>1528</td>\n",
       "    </tr>\n",
       "    <tr>\n",
       "      <th>...</th>\n",
       "      <td>...</td>\n",
       "      <td>...</td>\n",
       "      <td>...</td>\n",
       "      <td>...</td>\n",
       "      <td>...</td>\n",
       "      <td>...</td>\n",
       "      <td>...</td>\n",
       "    </tr>\n",
       "    <tr>\n",
       "      <th>8281</th>\n",
       "      <td>you</td>\n",
       "      <td>5368.572231</td>\n",
       "      <td>5368.840000</td>\n",
       "      <td>0.267769</td>\n",
       "      <td>full</td>\n",
       "      <td>128845</td>\n",
       "      <td>128852</td>\n",
       "    </tr>\n",
       "    <tr>\n",
       "      <th>8282</th>\n",
       "      <td>shes</td>\n",
       "      <td>5368.960000</td>\n",
       "      <td>5369.560000</td>\n",
       "      <td>0.600000</td>\n",
       "      <td>full</td>\n",
       "      <td>128855</td>\n",
       "      <td>128869</td>\n",
       "    </tr>\n",
       "    <tr>\n",
       "      <th>8283</th>\n",
       "      <td>got</td>\n",
       "      <td>5370.708571</td>\n",
       "      <td>5371.308571</td>\n",
       "      <td>0.600000</td>\n",
       "      <td>full</td>\n",
       "      <td>128897</td>\n",
       "      <td>128911</td>\n",
       "    </tr>\n",
       "    <tr>\n",
       "      <th>8284</th>\n",
       "      <td>you</td>\n",
       "      <td>5372.020000</td>\n",
       "      <td>5372.620000</td>\n",
       "      <td>0.600000</td>\n",
       "      <td>full</td>\n",
       "      <td>128928</td>\n",
       "      <td>128942</td>\n",
       "    </tr>\n",
       "    <tr>\n",
       "      <th>8285</th>\n",
       "      <td>high</td>\n",
       "      <td>5373.331429</td>\n",
       "      <td>5373.931429</td>\n",
       "      <td>0.600000</td>\n",
       "      <td>full</td>\n",
       "      <td>128959</td>\n",
       "      <td>128974</td>\n",
       "    </tr>\n",
       "  </tbody>\n",
       "</table>\n",
       "<p>8286 rows × 7 columns</p>\n",
       "</div>"
      ],
      "text/plain": [
       "     subtitle   start_time     end_time  interval     type  start_frame  \\\n",
       "0        this    61.977000    62.417000  0.440000  matched         1487   \n",
       "1          is    62.417000    62.607000  0.190000  matched         1498   \n",
       "2           a    62.607000    62.677000  0.070000  matched         1502   \n",
       "3       story    62.677000    63.247000  0.570000  matched         1504   \n",
       "4          of    63.527000    63.707000  0.180000  matched         1524   \n",
       "...       ...          ...          ...       ...      ...          ...   \n",
       "8281      you  5368.572231  5368.840000  0.267769     full       128845   \n",
       "8282     shes  5368.960000  5369.560000  0.600000     full       128855   \n",
       "8283      got  5370.708571  5371.308571  0.600000     full       128897   \n",
       "8284      you  5372.020000  5372.620000  0.600000     full       128928   \n",
       "8285     high  5373.331429  5373.931429  0.600000     full       128959   \n",
       "\n",
       "      end_frame  \n",
       "0          1498  \n",
       "1          1502  \n",
       "2          1504  \n",
       "3          1517  \n",
       "4          1528  \n",
       "...         ...  \n",
       "8281     128852  \n",
       "8282     128869  \n",
       "8283     128911  \n",
       "8284     128942  \n",
       "8285     128974  \n",
       "\n",
       "[8286 rows x 7 columns]"
      ]
     },
     "execution_count": 3,
     "metadata": {},
     "output_type": "execute_result"
    }
   ],
   "source": [
    "transcript = \"data/input/500_days_of_summer_words.csv\"\n",
    "output = \"data/input/500_days_of_summer_frames.csv\"\n",
    "\n",
    "convert_time_to_frames(transcript, output, fps=24)"
   ]
  },
  {
   "cell_type": "code",
   "execution_count": null,
   "id": "329e4ed5",
   "metadata": {},
   "outputs": [
    {
     "name": "stderr",
     "output_type": "stream",
     "text": [
      "Processing frames: 100%|██████████| 136777/136777 [16:36<00:00, 137.28it/s]"
     ]
    },
    {
     "name": "stdout",
     "output_type": "stream",
     "text": [
      "Processed 136777 frames with 791 scene changes\n",
      "Subtitled video with scene numbers saved to: data/input/500_days_of_summer_data.mp4\n"
     ]
    },
    {
     "name": "stderr",
     "output_type": "stream",
     "text": [
      "\n"
     ]
    },
    {
     "data": {
      "text/plain": [
       "'data/input/500_days_of_summer_data.mp4'"
      ]
     },
     "execution_count": 2,
     "metadata": {},
     "output_type": "execute_result"
    }
   ],
   "source": [
    "movie = \"data/input/500_days_of_summer.mp4\"\n",
    "subtitle = \"data/input/500_days_of_summer_frames.csv\"\n",
    "movie_output = \"data/input/500_days_of_summer_data.mp4\"\n",
    "\n",
    "add_subtitles_with_scene_detection(movie, subtitle, movie_output, scene_threshold=25)"
   ]
  }
 ],
 "metadata": {
  "kernelspec": {
   "display_name": "shac",
   "language": "python",
   "name": "python3"
  },
  "language_info": {
   "codemirror_mode": {
    "name": "ipython",
    "version": 3
   },
   "file_extension": ".py",
   "mimetype": "text/x-python",
   "name": "python",
   "nbconvert_exporter": "python",
   "pygments_lexer": "ipython3",
   "version": "3.10.16"
  }
 },
 "nbformat": 4,
 "nbformat_minor": 5
}
